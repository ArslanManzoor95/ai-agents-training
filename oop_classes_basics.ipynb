{
 "cells": [
  {
   "cell_type": "code",
   "execution_count": null,
   "id": "fa765957",
   "metadata": {},
   "outputs": [],
   "source": []
  },
  {
   "cell_type": "code",
   "execution_count": null,
   "id": "8f2b1c57",
   "metadata": {},
   "outputs": [],
   "source": []
  },
  {
   "cell_type": "code",
   "execution_count": null,
   "id": "04fb54a3",
   "metadata": {},
   "outputs": [],
   "source": []
  },
  {
   "cell_type": "markdown",
   "id": "50ab0cc8",
   "metadata": {},
   "source": [
    "## Quick OOP / Classes Study Session"
   ]
  },
  {
   "cell_type": "markdown",
   "id": "096cf287",
   "metadata": {},
   "source": [
    "- In Python, when you define a method inside a class, the first parameter is always self.\n",
    "- self refers to the instance of the class that is calling the method."
   ]
  },
  {
   "cell_type": "code",
   "execution_count": 3,
   "id": "b700ef3a",
   "metadata": {},
   "outputs": [
    {
     "name": "stdout",
     "output_type": "stream",
     "text": [
      "Driving...\n"
     ]
    }
   ],
   "source": [
    "class Car:\n",
    "    def drive(self):\n",
    "        print(\"Driving...\")\n",
    "\n",
    "my_car = Car()\n",
    "my_car.drive()  # Behind the scenes: Car.drive(my_car)"
   ]
  },
  {
   "cell_type": "markdown",
   "id": "627f2229",
   "metadata": {},
   "source": [
    "* A Class is like an object constructor, or a \"blueprint\" for creating objects."
   ]
  },
  {
   "cell_type": "code",
   "execution_count": 5,
   "id": "5f458ffb",
   "metadata": {},
   "outputs": [
    {
     "data": {
      "text/plain": [
       "5"
      ]
     },
     "execution_count": 5,
     "metadata": {},
     "output_type": "execute_result"
    }
   ],
   "source": [
    "class practice:\n",
    "    x = 5\n",
    "\n",
    "practice_v1 = practice()\n",
    "\n",
    "practice_v1.x"
   ]
  },
  {
   "cell_type": "markdown",
   "id": "d3010dc1",
   "metadata": {},
   "source": [
    "#### The __init__() Method\n",
    "- All classes have a built-in method called `__init__()`, which is always executed when the class is being initiated.\n",
    "- "
   ]
  },
  {
   "cell_type": "code",
   "execution_count": null,
   "id": "af5873de",
   "metadata": {},
   "outputs": [],
   "source": []
  }
 ],
 "metadata": {
  "kernelspec": {
   "display_name": "Python 3",
   "language": "python",
   "name": "python3"
  },
  "language_info": {
   "codemirror_mode": {
    "name": "ipython",
    "version": 3
   },
   "file_extension": ".py",
   "mimetype": "text/x-python",
   "name": "python",
   "nbconvert_exporter": "python",
   "pygments_lexer": "ipython3",
   "version": "3.10.11"
  }
 },
 "nbformat": 4,
 "nbformat_minor": 5
}
