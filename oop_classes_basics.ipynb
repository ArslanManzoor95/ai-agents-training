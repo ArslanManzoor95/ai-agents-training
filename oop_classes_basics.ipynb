{
 "cells": [
  {
   "cell_type": "markdown",
   "id": "50ab0cc8",
   "metadata": {},
   "source": [
    "## Quick OOP / Classes Study Session"
   ]
  },
  {
   "cell_type": "markdown",
   "id": "096cf287",
   "metadata": {},
   "source": [
    "- In Python, when you define a method inside a class, the first parameter is always self.\n",
    "- self refers to the instance of the class that is calling the method."
   ]
  },
  {
   "cell_type": "code",
   "execution_count": 3,
   "id": "b700ef3a",
   "metadata": {},
   "outputs": [
    {
     "name": "stdout",
     "output_type": "stream",
     "text": [
      "Driving...\n"
     ]
    }
   ],
   "source": [
    "class Car:\n",
    "    def drive(self):\n",
    "        print(\"Driving...\")\n",
    "\n",
    "my_car = Car()\n",
    "my_car.drive()  # Behind the scenes: Car.drive(my_car)"
   ]
  },
  {
   "cell_type": "markdown",
   "id": "627f2229",
   "metadata": {},
   "source": [
    "* A Class is like an object constructor, or a \"blueprint\" for creating objects."
   ]
  },
  {
   "cell_type": "code",
   "execution_count": 5,
   "id": "5f458ffb",
   "metadata": {},
   "outputs": [
    {
     "data": {
      "text/plain": [
       "5"
      ]
     },
     "execution_count": 5,
     "metadata": {},
     "output_type": "execute_result"
    }
   ],
   "source": [
    "class practice:\n",
    "    x = 5\n",
    "\n",
    "practice_v1 = practice()\n",
    "\n",
    "practice_v1.x"
   ]
  },
  {
   "cell_type": "markdown",
   "id": "d3010dc1",
   "metadata": {},
   "source": [
    "#### The __init__() Method\n",
    "- All classes have a built-in method called `__init__()`, which is always executed when the class is being initiated.\n",
    "- The `__init__()` method is used to assign values to object properties, or to perform operations that are necessary when the object is being created.\n",
    "- Note: The `__init__()` method is called automatically every time the class is being used to create a new object."
   ]
  },
  {
   "cell_type": "code",
   "execution_count": 1,
   "id": "af5873de",
   "metadata": {},
   "outputs": [
    {
     "name": "stdout",
     "output_type": "stream",
     "text": [
      "Emil\n",
      "36\n"
     ]
    }
   ],
   "source": [
    "class Person:\n",
    "  def __init__(self, name, age):\n",
    "    self.name = name\n",
    "    self.age = age\n",
    "\n",
    "p1 = Person(\"Emil\", 36)\n",
    "\n",
    "print(p1.name)\n",
    "print(p1.age)"
   ]
  },
  {
   "cell_type": "markdown",
   "id": "bd58621e",
   "metadata": {},
   "source": [
    "- You can also set default values for parameters in the `__init__()` method"
   ]
  },
  {
   "cell_type": "code",
   "execution_count": 2,
   "id": "117d942a",
   "metadata": {},
   "outputs": [
    {
     "name": "stdout",
     "output_type": "stream",
     "text": [
      "Emil 18\n",
      "Samual 32\n"
     ]
    }
   ],
   "source": [
    "class person:\n",
    "    def __init__(self, name, age=18):\n",
    "        self.name = name\n",
    "        self.age = age\n",
    "\n",
    "p1 = person(\"Emil\")\n",
    "p2 = person(\"Samual\", 32)\n",
    "\n",
    "print(p1.name, p1.age)\n",
    "print(p2.name, p2.age)"
   ]
  },
  {
   "cell_type": "markdown",
   "id": "27147efb",
   "metadata": {},
   "source": [
    "- The self parameter is a reference to the current instance of the class.\n",
    "- It is used to access properties and methods that belong to the class.\n",
    "- Without self, Python would not know which object's properties you want to access - The self parameter links the method to the specific object"
   ]
  },
  {
   "cell_type": "code",
   "execution_count": null,
   "id": "b2847665",
   "metadata": {},
   "outputs": [
    {
     "name": "stdout",
     "output_type": "stream",
     "text": [
      "Hello, my name is Arslan\n",
      "Arslan\n"
     ]
    }
   ],
   "source": [
    "class Person:\n",
    "    def __init__(self, name, age):\n",
    "        self.name = name\n",
    "        self.age = age\n",
    "\n",
    "    def greet(self):\n",
    "        print(\"Hello, my name is \" + self.name)\n",
    "\n",
    "p1 = Person(\"Arslan\", 29)\n",
    "p1.greet()\n",
    "print(p1.name) ## can access properties of an object"
   ]
  },
  {
   "cell_type": "code",
   "execution_count": null,
   "id": "1f54c11d",
   "metadata": {},
   "outputs": [],
   "source": []
  }
 ],
 "metadata": {
  "kernelspec": {
   "display_name": "Python 3",
   "language": "python",
   "name": "python3"
  },
  "language_info": {
   "codemirror_mode": {
    "name": "ipython",
    "version": 3
   },
   "file_extension": ".py",
   "mimetype": "text/x-python",
   "name": "python",
   "nbconvert_exporter": "python",
   "pygments_lexer": "ipython3",
   "version": "3.10.11"
  }
 },
 "nbformat": 4,
 "nbformat_minor": 5
}
